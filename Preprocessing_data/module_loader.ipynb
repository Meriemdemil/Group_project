{
 "cells": [
  {
   "cell_type": "code",
   "execution_count": 9,
   "metadata": {},
   "outputs": [],
   "source": [
    "import sys\n",
    "import os\n",
    "sys.path.append(os.path.abspath(\"..\"))\n",
    "from Preprocessing_data.pdf_loader_pre import CustomPDFLoader"
   ]
  },
  {
   "cell_type": "code",
   "execution_count": 10,
   "metadata": {},
   "outputs": [],
   "source": [
    "import os\n",
    "from langchain.schema import Document\n",
    "import logging\n",
    "\n",
    "class ModulePDFLoader:\n",
    "    def __init__(self, module_directory, ocr_lang=\"eng\"):\n",
    "        self.module_directory = module_directory\n",
    "        self.ocr_lang = ocr_lang\n",
    "        self.documents = []  # Initialize an empty list to store documents\n",
    "\n",
    "    def load_module_pdfs(self):\n",
    "        \"\"\"\n",
    "        Load all PDFs in the module directory and process them.\n",
    "        \"\"\"\n",
    "        for root, _, files in os.walk(self.module_directory):\n",
    "            for file in files:\n",
    "                if file.endswith(\".pdf\"):\n",
    "                    pdf_path = os.path.join(root, file)\n",
    "                    logging.info(f\"Processing PDF: {pdf_path}\")\n",
    "                    \n",
    "                    # Create an instance of CustomPDFLoader for each PDF\n",
    "                    pdf_loader = CustomPDFLoader(pdf_path, ocr_lang=self.ocr_lang)\n",
    "                    documents = pdf_loader.load()\n",
    "                    \n",
    "                    # Add the documents from this PDF to the list\n",
    "                    self.documents.extend(documents)"
   ]
  }
 ],
 "metadata": {
  "kernelspec": {
   "display_name": "base",
   "language": "python",
   "name": "python3"
  },
  "language_info": {
   "codemirror_mode": {
    "name": "ipython",
    "version": 3
   },
   "file_extension": ".py",
   "mimetype": "text/x-python",
   "name": "python",
   "nbconvert_exporter": "python",
   "pygments_lexer": "ipython3",
   "version": "3.12.4"
  }
 },
 "nbformat": 4,
 "nbformat_minor": 2
}
