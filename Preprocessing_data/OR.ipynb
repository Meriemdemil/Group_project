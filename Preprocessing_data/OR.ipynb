{
 "cells": [
  {
   "cell_type": "code",
   "execution_count": 1,
   "metadata": {},
   "outputs": [],
   "source": [
    "import sys\n",
    "import os\n",
    "sys.path.append(os.path.abspath(\"..\"))\n",
    "from Preprocessing_data.pdf_loader_pre import CustomPDFLoader"
   ]
  },
  {
   "cell_type": "code",
   "execution_count": 2,
   "metadata": {},
   "outputs": [],
   "source": [
    "import os\n",
    "import sys\n",
    "from importnb import Notebook\n",
    "\n",
    "sys.path.append(os.path.abspath('..'))\n",
    "\n",
    "with Notebook():\n",
    "    import Preprocessing_data.module_loader as module_x\n"
   ]
  },
  {
   "cell_type": "code",
   "execution_count": 3,
   "metadata": {},
   "outputs": [
    {
     "name": "stderr",
     "output_type": "stream",
     "text": [
      "2025-04-05 16:14:33,364 - INFO - Processing PDF: ../DATA/3rd_year/Operations_Reasearch\\CPLEX.pdf\n",
      "2025-04-05 16:14:33,381 - INFO - Starting PDF loading process...\n",
      "2025-04-05 16:15:44,849 - INFO - PDF loading process completed successfully.\n",
      "2025-04-05 16:15:44,865 - INFO - Processing PDF: ../DATA/3rd_year/Operations_Reasearch\\Operations Research Syllabus (Presentation).pdf\n",
      "2025-04-05 16:15:44,865 - INFO - Starting PDF loading process...\n",
      "2025-04-05 16:16:06,955 - INFO - PDF loading process completed successfully.\n",
      "2025-04-05 16:16:06,972 - INFO - Processing PDF: ../DATA/3rd_year/Operations_Reasearch\\The art of solving real-world problems_   Operations Research (OR).pdf\n",
      "2025-04-05 16:16:06,972 - INFO - Starting PDF loading process...\n",
      "2025-04-05 16:17:44,794 - INFO - PDF loading process completed successfully.\n",
      "2025-04-05 16:17:44,794 - INFO - Processing PDF: ../DATA/3rd_year/Operations_Reasearch\\Week11_Planar_graphs.pdf\n",
      "2025-04-05 16:17:44,794 - INFO - Starting PDF loading process...\n",
      "2025-04-05 16:19:50,490 - INFO - PDF loading process completed successfully.\n",
      "2025-04-05 16:19:50,490 - INFO - Processing PDF: ../DATA/3rd_year/Operations_Reasearch\\Week12_graph_coloring.pdf\n",
      "2025-04-05 16:19:50,490 - INFO - Starting PDF loading process...\n",
      "2025-04-05 16:21:39,388 - INFO - PDF loading process completed successfully.\n",
      "2025-04-05 16:21:39,388 - INFO - Processing PDF: ../DATA/3rd_year/Operations_Reasearch\\Week2__Linear_Programming_Fundamentals.pdf\n",
      "2025-04-05 16:21:39,388 - INFO - Starting PDF loading process...\n",
      "2025-04-05 16:22:50,927 - INFO - PDF loading process completed successfully.\n",
      "2025-04-05 16:22:50,939 - INFO - Processing PDF: ../DATA/3rd_year/Operations_Reasearch\\Week3__Solving_Linear_Programming_Problems_using_the_Simplex_Method.pdf\n",
      "2025-04-05 16:22:50,939 - INFO - Starting PDF loading process...\n",
      "2025-04-05 16:24:11,885 - INFO - PDF loading process completed successfully.\n",
      "2025-04-05 16:24:11,885 - INFO - Processing PDF: ../DATA/3rd_year/Operations_Reasearch\\Week4__Solving_Linear_Programming_Problems_using_the_Simplex_Method_2.pdf\n",
      "2025-04-05 16:24:11,885 - INFO - Starting PDF loading process...\n",
      "2025-04-05 16:26:02,585 - INFO - PDF loading process completed successfully.\n",
      "2025-04-05 16:26:02,585 - INFO - Processing PDF: ../DATA/3rd_year/Operations_Reasearch\\Week5_Algebraic_Sensitivity_Analysis_and_LP_Solvers.pdf\n",
      "2025-04-05 16:26:02,585 - INFO - Starting PDF loading process...\n",
      "2025-04-05 16:27:46,671 - INFO - PDF loading process completed successfully.\n",
      "2025-04-05 16:27:46,671 - INFO - Processing PDF: ../DATA/3rd_year/Operations_Reasearch\\Week7_Introduction to graph theory.pdf\n",
      "2025-04-05 16:27:46,671 - INFO - Starting PDF loading process...\n",
      "2025-04-05 16:30:10,023 - INFO - PDF loading process completed successfully.\n",
      "2025-04-05 16:30:10,040 - INFO - Processing PDF: ../DATA/3rd_year/Operations_Reasearch\\Week8_Connectivity in graphs.pdf\n",
      "2025-04-05 16:30:10,040 - INFO - Starting PDF loading process...\n",
      "2025-04-05 16:32:19,465 - INFO - PDF loading process completed successfully.\n"
     ]
    },
    {
     "name": "stdout",
     "output_type": "stream",
     "text": [
      "Extracted text from 11 documents.\n"
     ]
    }
   ],
   "source": [
    "module_directory = r\"../DATA/3rd_year/Operations_Reasearch\"\n",
    "module_loader = module_x.ModulePDFLoader(module_directory, ocr_lang=\"eng\")\n",
    "module_loader.load_module_pdfs()\n",
    "\n",
    "# Access the processed documents\n",
    "documents = module_loader.documents\n",
    "texts = [doc.page_content for doc in documents]\n",
    "print(f\"Extracted text from {len(texts)} documents.\")"
   ]
  },
  {
   "cell_type": "code",
   "execution_count": 6,
   "metadata": {},
   "outputs": [],
   "source": [
    "from langchain.text_splitter import RecursiveCharacterTextSplitter\n",
    "\n",
    "splitter_OR = RecursiveCharacterTextSplitter(chunk_size=500, chunk_overlap=50)\n",
    "split_docs_OR = splitter_OR.create_documents(texts)"
   ]
  },
  {
   "cell_type": "code",
   "execution_count": 7,
   "metadata": {},
   "outputs": [],
   "source": [
    "# Export variables\n",
    "__all__ = ['split_docs_OR'] "
   ]
  }
 ],
 "metadata": {
  "kernelspec": {
   "display_name": "base",
   "language": "python",
   "name": "python3"
  },
  "language_info": {
   "codemirror_mode": {
    "name": "ipython",
    "version": 3
   },
   "file_extension": ".py",
   "mimetype": "text/x-python",
   "name": "python",
   "nbconvert_exporter": "python",
   "pygments_lexer": "ipython3",
   "version": "3.12.3"
  }
 },
 "nbformat": 4,
 "nbformat_minor": 2
}
